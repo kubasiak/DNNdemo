{
 "cells": [
  {
   "cell_type": "markdown",
   "metadata": {},
   "source": [
    "Copyright (c) Microsoft Corporation. All rights reserved.\n",
    "\n",
    "Licensed under the MIT License."
   ]
  },
  {
   "cell_type": "code",
   "execution_count": 2,
   "metadata": {
    "tags": [
     "check version"
    ]
   },
   "outputs": [
    {
     "name": "stderr",
     "output_type": "stream",
     "text": [
      "/anaconda/envs/azureml_py36/lib/python3.6/site-packages/h5py/__init__.py:34: FutureWarning: Conversion of the second argument of issubdtype from `float` to `np.floating` is deprecated. In future, it will be treated as `np.float64 == np.dtype(float).type`.\n",
      "  from ._conv import register_converters as _register_converters\n",
      "Using TensorFlow backend.\n"
     ]
    },
    {
     "name": "stdout",
     "output_type": "stream",
     "text": [
      "Azure ML SDK Version:  1.0.55\n"
     ]
    }
   ],
   "source": [
    "%matplotlib inline\n",
    "import numpy as np\n",
    "import matplotlib.pyplot as plt\n",
    "import pandas as pd\n",
    "import pickle\n",
    "import azureml.core\n",
    "from azureml.core import Workspace\n",
    "from sklearn.preprocessing import LabelEncoder\n",
    "from keras.utils import np_utils\n",
    "from azureml.core.compute import ComputeTarget, AmlCompute\n",
    "from azureml.core.compute_target import ComputeTargetException\n",
    "import os\n",
    "\n",
    "# check core SDK version number\n",
    "print(\"Azure ML SDK Version: \", azureml.core.VERSION)"
   ]
  },
  {
   "cell_type": "code",
   "execution_count": 19,
   "metadata": {},
   "outputs": [],
   "source": [
    "project_folder=os.getcwd()\n",
    "data_folder='trainDataset'\n",
    "script_folder = os.path.join(os.getcwd(), \"scripts\")\n",
    "#script_folder=project_folder # for now I keep the scripts in the main folder\n",
    "os.makedirs(script_folder, exist_ok=True)"
   ]
  },
  {
   "cell_type": "markdown",
   "metadata": {},
   "source": [
    "### Connect to workspace\n",
    "\n",
    "Create a workspace object from the existing workspace. `Workspace.from_config()` reads the file **config.json** and loads the details into an object named `ws`."
   ]
  },
  {
   "cell_type": "code",
   "execution_count": 4,
   "metadata": {
    "tags": [
     "load workspace"
    ]
   },
   "outputs": [
    {
     "name": "stdout",
     "output_type": "stream",
     "text": [
      "AzureBlob demoimages1077181835 azureml-blobstore-72619590-248c-45bf-a2cd-0413350c2ab4\n",
      "DemoImages\tnortheurope\tLufthansaZeroG\tnortheurope\n"
     ]
    }
   ],
   "source": [
    "# load workspace configuration from the config.json file in the current folder.\n",
    "ws = Workspace.from_config()\n",
    "ds = ws.get_default_datastore()\n",
    "print(ds.datastore_type, ds.account_name, ds.container_name)\n",
    "print(ws.name, ws.location, ws.resource_group, ws.location, sep='\\t')"
   ]
  },
  {
   "cell_type": "markdown",
   "metadata": {},
   "source": [
    "### Create experiment\n",
    "\n",
    "Create an experiment to track the runs in your workspace. A workspace can have muliple experiments. "
   ]
  },
  {
   "cell_type": "code",
   "execution_count": 6,
   "metadata": {
    "tags": [
     "create experiment"
    ]
   },
   "outputs": [],
   "source": [
    "experiment_name = 'ImageClassifierhyperdrive'\n",
    "\n",
    "from azureml.core import Experiment\n",
    "experiment = Experiment(workspace=ws, name=experiment_name)"
   ]
  },
  {
   "cell_type": "markdown",
   "metadata": {},
   "source": [
    "### Create or Attach existing compute resource\n",
    "By using Azure Machine Learning Compute, a managed service, data scientists can train machine learning models on clusters of Azure virtual machines. Examples include VMs with GPU support. In this tutorial, you create Azure Machine Learning Compute as your training environment. The code below creates the compute clusters for you if they don't already exist in your workspace.\n",
    "\n",
    "**Creation of compute takes approximately 5 minutes.** If the AmlCompute with that name is already in your workspace the code will skip the creation process."
   ]
  },
  {
   "cell_type": "code",
   "execution_count": 7,
   "metadata": {},
   "outputs": [
    {
     "name": "stdout",
     "output_type": "stream",
     "text": [
      "Found existing compute target\n"
     ]
    }
   ],
   "source": [
    "cluster_name = \"gpucluster\"\n",
    "\n",
    "try:\n",
    "    compute_target = ComputeTarget(workspace=ws, name=cluster_name)\n",
    "    print('Found existing compute target')\n",
    "except ComputeTargetException:\n",
    "    print('Creating a new compute target...')\n",
    "    compute_config = AmlCompute.provisioning_configuration(vm_size='STANDARD_NC6',\n",
    "                                                           min_nodes=0,\n",
    "                                                           max_nodes=4)\n",
    "\n",
    "    compute_target = ComputeTarget.create(ws, cluster_name, compute_config)\n",
    "\n",
    "    compute_target.wait_for_completion(show_output=True, min_node_count=None, timeout_in_minutes=20)"
   ]
  },
  {
   "cell_type": "code",
   "execution_count": 8,
   "metadata": {},
   "outputs": [],
   "source": [
    "with open(os.path.join('trainDataset', \"x_train.tsv\"),\"rb\") as f:\n",
    "     x_train=pickle.load(f)\n",
    "with open(os.path.join('trainDataset', \"y_train.tsv\"),\"rb\") as f:\n",
    "     y_train=pickle.load(f)\n",
    "with open(os.path.join('trainDataset', \"x_val.tsv\"),\"rb\") as f:\n",
    "     x_val=pickle.load(f)\n",
    "with open(os.path.join('trainDataset', \"y_val.tsv\"),\"rb\") as f:\n",
    "     y_val=pickle.load(f)\n",
    "with open(os.path.join('testDataset', \"x_test.tsv\"),\"rb\") as f:\n",
    "     x_test=pickle.load(f)\n",
    "with open(os.path.join('testDataset', \"y_test.tsv\"),\"rb\") as f:\n",
    "     y_test=pickle.load(f)"
   ]
  },
  {
   "cell_type": "code",
   "execution_count": 9,
   "metadata": {},
   "outputs": [],
   "source": [
    "with open(os.path.join('trainDataset', \"encoder\"),\"rb\") as f:\n",
    "     encoder=pickle.load(f)"
   ]
  },
  {
   "cell_type": "markdown",
   "metadata": {},
   "source": [
    "### Upload data to the cloud"
   ]
  },
  {
   "cell_type": "code",
   "execution_count": 10,
   "metadata": {},
   "outputs": [
    {
     "name": "stdout",
     "output_type": "stream",
     "text": [
      "Uploading an estimated of 5 files\n",
      "Uploading trainDataset/encoder\n",
      "Uploading trainDataset/x_train.tsv\n",
      "Uploading trainDataset/x_val.tsv\n",
      "Uploading trainDataset/y_train.tsv\n",
      "Uploading trainDataset/y_val.tsv\n",
      "Uploaded trainDataset/y_val.tsv, 1 files out of an estimated total of 5\n",
      "Uploaded trainDataset/encoder, 2 files out of an estimated total of 5\n",
      "Uploaded trainDataset/y_train.tsv, 3 files out of an estimated total of 5\n",
      "Uploaded trainDataset/x_val.tsv, 4 files out of an estimated total of 5\n",
      "Uploaded trainDataset/x_train.tsv, 5 files out of an estimated total of 5\n",
      "Uploaded 5 files\n",
      "Uploading an estimated of 5 files\n",
      "Uploading trainDataset/encoder\n",
      "Uploading trainDataset/x_train.tsv\n",
      "Uploading trainDataset/x_val.tsv\n",
      "Uploading trainDataset/y_train.tsv\n",
      "Uploading trainDataset/y_val.tsv\n",
      "Uploaded trainDataset/y_val.tsv, 1 files out of an estimated total of 5\n",
      "Uploaded trainDataset/y_train.tsv, 2 files out of an estimated total of 5\n",
      "Uploaded trainDataset/encoder, 3 files out of an estimated total of 5\n",
      "Uploaded trainDataset/x_val.tsv, 4 files out of an estimated total of 5\n",
      "Uploaded trainDataset/x_train.tsv, 5 files out of an estimated total of 5\n",
      "Uploaded 5 files\n"
     ]
    },
    {
     "data": {
      "text/plain": [
       "$AZUREML_DATAREFERENCE_4a0b8baa77a04f76a083a7bb8964115e"
      ]
     },
     "execution_count": 10,
     "metadata": {},
     "output_type": "execute_result"
    }
   ],
   "source": [
    "ds.upload(src_dir=data_folder, target_path='trainDataset', overwrite=True, show_progress=True)\n",
    "ds.upload(src_dir=data_folder, target_path='testDataset', overwrite=True, show_progress=True)"
   ]
  },
  {
   "cell_type": "markdown",
   "metadata": {},
   "source": [
    "### Preparation for the model"
   ]
  },
  {
   "cell_type": "code",
   "execution_count": 11,
   "metadata": {},
   "outputs": [],
   "source": [
    "ntrain=len(x_train)\n",
    "nval=len(x_val)\n",
    "batch_size=32"
   ]
  },
  {
   "cell_type": "code",
   "execution_count": 12,
   "metadata": {},
   "outputs": [
    {
     "name": "stdout",
     "output_type": "stream",
     "text": [
      "(1025, 150, 150, 3)\n",
      "(1025, 8)\n"
     ]
    }
   ],
   "source": [
    "print(x_train.shape)\n",
    "print(y_train.shape)"
   ]
  },
  {
   "cell_type": "code",
   "execution_count": 20,
   "metadata": {
    "tags": [
     "use datastore"
    ]
   },
   "outputs": [
    {
     "name": "stdout",
     "output_type": "stream",
     "text": [
      "Overwriting /mnt/azmnt/code/Users/train_onnx_hyperderive.py\n"
     ]
    }
   ],
   "source": [
    "%%writefile $project_folder/train_onnx_hyperderive.py\n",
    "import argparse\n",
    "import os\n",
    "import numpy as np\n",
    "import pickle\n",
    "from azureml.core.run import Run\n",
    "from keras import layers, models, optimizers\n",
    "from keras.preprocessing.image import ImageDataGenerator\n",
    "from keras.callbacks import EarlyStopping, Callback\n",
    "import onnx\n",
    "import winmltools\n",
    "\n",
    "run = Run.get_context()\n",
    "\n",
    "parser = argparse.ArgumentParser()\n",
    "parser.add_argument('--data-folder', type=str, dest='data_folder', help='data folder mounting point')\n",
    "parser.add_argument('--batch_size', type=int, dest='batch_size', help='batch_size')\n",
    "parser.add_argument('--learning_rate', type=float, dest='learning_rate', default=0.001,  help='learning rate')\n",
    "\n",
    "args = parser.parse_args()\n",
    "\n",
    "data_folder = args.data_folder\n",
    "batch_size = args.batch_size\n",
    "learning_rate = args.learning_rate\n",
    "\n",
    "with open(os.path.join(data_folder, 'x_train.tsv'),\"rb\") as f:\n",
    "    x_train = pickle.load(f)\n",
    "with open(os.path.join(data_folder,'y_train.tsv'),\"rb\") as f:\n",
    "    y_train = pickle.load(f)\n",
    "with open(os.path.join(data_folder,'x_val.tsv'),\"rb\") as f:\n",
    "    x_val = pickle.load(f)\n",
    "with open(os.path.join(data_folder,'y_val.tsv'),\"rb\") as f:\n",
    "    y_val = pickle.load(f)\n",
    "\n",
    "print(x_train.shape, y_train.shape, x_val.shape, y_val.shape, sep = '\\n')\n",
    "\n",
    "ntrain=len(x_train)\n",
    "nval=len(x_val)\n",
    "\n",
    "\n",
    "###################  modeling part\n",
    "\n",
    "model=models.Sequential()\n",
    "model.add(layers.Conv2D(16,(3,3),activation='relu',input_shape=(150,150,3)))\n",
    "model.add(layers.MaxPooling2D((2,2)))\n",
    "\n",
    "model.add(layers.Conv2D(32,(3,3),activation='relu'))\n",
    "model.add(layers.MaxPooling2D((2,2)))\n",
    "\n",
    "model.add(layers.Conv2D(64,(3,3),activation='relu'))\n",
    "model.add(layers.MaxPooling2D((2,2)))\n",
    "\n",
    "model.add(layers.Conv2D(64,(3,3),activation='relu'))\n",
    "model.add(layers.MaxPooling2D((2,2)))\n",
    "\n",
    "model.add(layers.Flatten())\n",
    "model.add(layers.Dropout(0.5))\n",
    "model.add(layers.Dense(256,activation='relu'))\n",
    "model.add(layers.Dense(8,activation='sigmoid'))\n",
    "\n",
    "model.compile(loss='categorical_crossentropy', \n",
    "              optimizer=optimizers.RMSprop(lr=learning_rate),\n",
    "              metrics=['accuracy']\n",
    "             )\n",
    "\n",
    "trainDataGen= ImageDataGenerator(\n",
    "                    rescale=1.,\n",
    "                    rotation_range=40,\n",
    "                    width_shift_range=0.2,\n",
    "                    height_shift_range=0.2,\n",
    "                    shear_range=0.2,\n",
    "                    zoom_range=0.2\n",
    "                    )\n",
    "valDataGen=ImageDataGenerator(rescale=1.)\n",
    "\n",
    "trainGenerator=trainDataGen.flow(x_train,y_train,batch_size = batch_size)\n",
    "valGenerator=valDataGen.flow(x_val,y_val,batch_size = batch_size)\n",
    "\n",
    "early_stopping = EarlyStopping(monitor='val_loss', patience=2)\n",
    "\n",
    "class LogRunMetrics(Callback):\n",
    "\n",
    "    # callback at the end of every epoch\n",
    "\n",
    "    def on_epoch_end(self, epoch, log):\n",
    "        # log a value repeated which creates a list\n",
    "        run.log('Accuracy', log['acc'])\n",
    "        run.log('Loss', log['loss'])\n",
    "        \n",
    "    \n",
    "history=model.fit_generator(trainGenerator,\n",
    "                            steps_per_epoch = ntrain//batch_size,\n",
    "                            epochs = 32,\n",
    "                            validation_data = valGenerator,\n",
    "                            validation_steps = nval//batch_size,\n",
    "                            callbacks=[early_stopping,LogRunMetrics()],\n",
    "                            workers=3\n",
    "                           )\n",
    "\n",
    "run.log_list('val_accuracy', history.history['val_acc'], description='Validation accuracy')\n",
    "run.log_list('val_loss', history.history['val_loss'], description='validation loss')\n",
    "\n",
    "# for now I am not using the output argument from the args\n",
    "output_dir = './outputs/model'\n",
    "os.makedirs(output_dir, exist_ok=True)\n",
    "model_path = os.path.join(output_dir, 'onnxmodel.onnx')\n",
    "\n",
    "TARGET_OPSET = 8 #8 for ONNX 1.3.\n",
    "convert_model = winmltools.convert_keras(model,TARGET_OPSET)\n",
    "winmltools.save_model(convert_model, model_path)\n",
    "\n",
    "'''with open('./outputs/model/trainHistoryDict', 'wb') as f:\n",
    "        pickle.dump(history.history, f)'''"
   ]
  },
  {
   "cell_type": "code",
   "execution_count": 40,
   "metadata": {},
   "outputs": [
    {
     "name": "stdout",
     "output_type": "stream",
     "text": [
      "Overwriting /mnt/azmnt/code/Users/scripts/train_onnx_hyperdrive.py\n"
     ]
    }
   ],
   "source": [
    "%%writefile $script_folder/train_onnx_hyperdrive.py\n",
    "import argparse\n",
    "import os\n",
    "import numpy as np\n",
    "import pickle\n",
    "from azureml.core.run import Run\n",
    "from keras import layers, models, optimizers\n",
    "from keras.preprocessing.image import ImageDataGenerator\n",
    "from keras.callbacks import EarlyStopping, Callback\n",
    "import onnx\n",
    "import winmltools\n",
    "\n",
    "run = Run.get_context()\n",
    "\n",
    "parser = argparse.ArgumentParser()\n",
    "parser.add_argument('--data-folder', type=str, dest='data_folder', help='data folder mounting point')\n",
    "parser.add_argument('--batch_size', type=int, dest='batch_size', help='batch_size')\n",
    "parser.add_argument('--learning_rate', type=float, dest='learning_rate', default=0.001,  help='learning rate')\n",
    "parser.add_argument('--layer_size', type= int, dest='layer_size', default=1,  help='layer size factor')\n",
    "\n",
    "args = parser.parse_args()\n",
    "\n",
    "data_folder = args.data_folder\n",
    "batch_size = args.batch_size\n",
    "learning_rate = args.learning_rate\n",
    "layer_size = args.layer_size\n",
    "\n",
    "print('Layer size factor = ', layer_size)\n",
    "\n",
    "with open(os.path.join(data_folder, 'x_train.tsv'),\"rb\") as f:\n",
    "    x_train = pickle.load(f)\n",
    "with open(os.path.join(data_folder,'y_train.tsv'),\"rb\") as f:\n",
    "    y_train = pickle.load(f)\n",
    "with open(os.path.join(data_folder,'x_val.tsv'),\"rb\") as f:\n",
    "    x_val = pickle.load(f)\n",
    "with open(os.path.join(data_folder,'y_val.tsv'),\"rb\") as f:\n",
    "    y_val = pickle.load(f)\n",
    "\n",
    "print(x_train.shape, y_train.shape, x_val.shape, y_val.shape, sep = '\\n')\n",
    "\n",
    "ntrain=len(x_train)\n",
    "nval=len(x_val)\n",
    "\n",
    "\n",
    "###################  modeling part\n",
    "\n",
    "model=models.Sequential()\n",
    "model.add(layers.Conv2D(16*layer_size,(3,3),activation='relu',input_shape=(150,150,3)))\n",
    "model.add(layers.MaxPooling2D((2,2)))\n",
    "\n",
    "model.add(layers.Conv2D(32*layer_size,(3,3),activation='relu'))\n",
    "model.add(layers.MaxPooling2D((2,2)))\n",
    "\n",
    "model.add(layers.Conv2D(64*layer_size,(3,3),activation='relu'))\n",
    "model.add(layers.MaxPooling2D((2,2)))\n",
    "\n",
    "model.add(layers.Conv2D(64*layer_size,(3,3),activation='relu'))\n",
    "model.add(layers.MaxPooling2D((2,2)))\n",
    "\n",
    "model.add(layers.Flatten())\n",
    "model.add(layers.Dropout(0.5))\n",
    "model.add(layers.Dense(256*layer_size,activation='relu'))\n",
    "model.add(layers.Dense(8,activation='sigmoid'))\n",
    "\n",
    "model.compile(loss='categorical_crossentropy', \n",
    "              optimizer=optimizers.RMSprop(lr=learning_rate),\n",
    "              metrics=['accuracy']\n",
    "             )\n",
    "\n",
    "trainDataGen= ImageDataGenerator(\n",
    "                    rescale=1.,\n",
    "                    rotation_range=40,\n",
    "                    width_shift_range=0.2,\n",
    "                    height_shift_range=0.2,\n",
    "                    shear_range=0.2,\n",
    "                    zoom_range=0.2\n",
    "                    )\n",
    "valDataGen=ImageDataGenerator(rescale=1.)\n",
    "\n",
    "trainGenerator=trainDataGen.flow(x_train,y_train,batch_size = batch_size)\n",
    "valGenerator=valDataGen.flow(x_val,y_val,batch_size = batch_size)\n",
    "\n",
    "early_stopping = EarlyStopping(monitor='val_loss', patience=2)\n",
    "\n",
    "class LogRunMetrics(Callback):\n",
    "\n",
    "    # callback at the end of every epoch\n",
    "\n",
    "    def on_epoch_end(self, epoch, log):\n",
    "        # log a value repeated which creates a list\n",
    "        run.log('Accuracy', log['acc'])\n",
    "        run.log('Loss', log['loss'])\n",
    "        \n",
    "    \n",
    "history=model.fit_generator(trainGenerator,\n",
    "                            steps_per_epoch = ntrain//batch_size+1,\n",
    "                            epochs = 32,\n",
    "                            validation_data = valGenerator,\n",
    "                            validation_steps = nval//batch_size+1,\n",
    "                            callbacks=[early_stopping,LogRunMetrics()],\n",
    "                            workers=3\n",
    "                           )\n",
    "\n",
    "run.log_list('val_accuracy', history.history['val_acc'], description='Validation accuracy')\n",
    "run.log_list('val_loss', history.history['val_loss'], description='validation loss')\n",
    "\n",
    "# for now I am not using the output argument from the args\n",
    "output_dir = './outputs/model'\n",
    "os.makedirs(output_dir, exist_ok=True)\n",
    "model_path = os.path.join(output_dir, 'onnxmodel.onnx')\n",
    "\n",
    "TARGET_OPSET = 8 #8 for ONNX 1.3.\n",
    "convert_model = winmltools.convert_keras(model,TARGET_OPSET)\n",
    "winmltools.save_model(convert_model, model_path)\n",
    "\n",
    "'''with open('./outputs/model/trainHistoryDict', 'wb') as f:\n",
    "        pickle.dump(history.history, f)'''"
   ]
  },
  {
   "cell_type": "markdown",
   "metadata": {},
   "source": [
    "### Create an estimator\n",
    "\n",
    "An estimator object is used to submit the run. Azure Machine Learning has pre-configured estimators for common machine learning frameworks, as well as generic Estimator. Create SKLearn estimator for scikit-learn model, by specifying\n",
    "\n",
    "* The name of the estimator object, `est`\n",
    "* The directory that contains your scripts. All the files in this directory are uploaded into the cluster nodes for execution. \n",
    "* The compute target.  In this case you will use the AmlCompute you created\n",
    "* The training script name, train.py\n",
    "* Parameters required from the training script \n",
    "\n",
    "In this tutorial, this target is AmlCompute. All files in the script folder are uploaded into the cluster nodes for execution. The data_folder is set to use the datastore (`ds.path('mnist').as_mount()`)."
   ]
  },
  {
   "cell_type": "code",
   "execution_count": 25,
   "metadata": {},
   "outputs": [],
   "source": [
    "from azureml.train.hyperdrive import RandomParameterSampling, BanditPolicy, HyperDriveConfig, PrimaryMetricGoal\n",
    "from azureml.train.hyperdrive import choice, uniform\n",
    "\n",
    "ps = RandomParameterSampling(\n",
    "    {\n",
    "        '--batch_size': choice(32,64, 128),\n",
    "        '--learning_rate': uniform(1e-4, 1e-3),\n",
    "        '--layer_size': choice(1,2,4)\n",
    "    }\n",
    ")"
   ]
  },
  {
   "cell_type": "code",
   "execution_count": 35,
   "metadata": {
    "tags": [
     "configure estimator"
    ]
   },
   "outputs": [],
   "source": [
    "from azureml.train.dnn import TensorFlow\n",
    "from azureml.core.runconfig import MpiConfiguration\n",
    "\n",
    "script_params = {\n",
    "    '--data-folder': ds.path('trainDataset').as_mount()\n",
    "}\n",
    "\n",
    "est = TensorFlow(source_directory=script_folder,\n",
    "                 entry_script='train_onnx_hyperdrive.py',\n",
    "                 script_params=script_params,\n",
    "                 compute_target=compute_target,\n",
    "                 pip_packages=['keras', 'winmltools','onnx'],\n",
    "                 node_count=4,\n",
    "                 process_count_per_node=1,\n",
    "                 distributed_training=MpiConfiguration(),\n",
    "                 framework_version=\"1.13\",\n",
    "                 use_gpu=True)"
   ]
  },
  {
   "cell_type": "code",
   "execution_count": 34,
   "metadata": {},
   "outputs": [],
   "source": [
    "policy = BanditPolicy(evaluation_interval=2, slack_factor=0.1)\n",
    "\n",
    "hdc = HyperDriveConfig(estimator=est, \n",
    "                       hyperparameter_sampling=ps, \n",
    "                       policy=policy, \n",
    "                       primary_metric_name='Accuracy', \n",
    "                       primary_metric_goal=PrimaryMetricGoal.MAXIMIZE, \n",
    "                       max_total_runs=8,\n",
    "                       max_concurrent_runs=4)"
   ]
  },
  {
   "cell_type": "markdown",
   "metadata": {},
   "source": [
    "### Submit the job to the cluster\n",
    "\n",
    "Run the experiment by submitting the estimator object. And you can navigate to Azure portal to monitor the run."
   ]
  },
  {
   "cell_type": "code",
   "execution_count": 17,
   "metadata": {},
   "outputs": [
    {
     "name": "stdout",
     "output_type": "stream",
     "text": [
      "Overwriting /mnt/azmnt/code/Users/.amlignore\n"
     ]
    }
   ],
   "source": [
    "%%writefile $project_folder/.amlignore\n",
    "data\n",
    "model\n",
    "sourceData\n",
    "Training\n",
    "Testing\n",
    "trainDataset\n",
    "testDataset\n",
    "dataLH\n",
    "model_keras.h5\n",
    "model_weights.h5\n",
    "model_wieghts.h5\n",
    "ARCH"
   ]
  },
  {
   "cell_type": "code",
   "execution_count": 41,
   "metadata": {
    "tags": [
     "remote run",
     "amlcompute",
     "scikit-learn"
    ]
   },
   "outputs": [
    {
     "data": {
      "text/html": [
       "<table style=\"width:100%\"><tr><th>Experiment</th><th>Id</th><th>Type</th><th>Status</th><th>Details Page</th><th>Docs Page</th></tr><tr><td>ImageClassifierhyperdrive</td><td>ImageClassifierhyperdrive_1568037762930</td><td>hyperdrive</td><td>Running</td><td><a href=\"https://mlworkspace.azure.ai/portal/subscriptions/ed940d3a-1d48-4740-b2cb-bd9fe6642e7b/resourceGroups/LufthansaZeroG/providers/Microsoft.MachineLearningServices/workspaces/DemoImages/experiments/ImageClassifierhyperdrive/runs/ImageClassifierhyperdrive_1568037762930\" target=\"_blank\" rel=\"noopener\">Link to Azure Portal</a></td><td><a href=\"https://docs.microsoft.com/en-us/python/api/overview/azure/ml/intro?view=azure-ml-py\" target=\"_blank\" rel=\"noopener\">Link to Documentation</a></td></tr></table>"
      ],
      "text/plain": [
       "Run(Experiment: ImageClassifierhyperdrive,\n",
       "Id: ImageClassifierhyperdrive_1568037762930,\n",
       "Type: hyperdrive,\n",
       "Status: Running)"
      ]
     },
     "execution_count": 41,
     "metadata": {},
     "output_type": "execute_result"
    }
   ],
   "source": [
    "run = experiment.submit(config=hdc)\n",
    "run"
   ]
  },
  {
   "cell_type": "markdown",
   "metadata": {},
   "source": [
    "## Monitor a remote run\n"
   ]
  },
  {
   "cell_type": "code",
   "execution_count": 42,
   "metadata": {
    "tags": [
     "use notebook widget"
    ]
   },
   "outputs": [
    {
     "data": {
      "application/vnd.jupyter.widget-view+json": {
       "model_id": "16d40ed0a4424d6f9d82818baa6e4b48",
       "version_major": 2,
       "version_minor": 0
      },
      "text/plain": [
       "A Jupyter Widget"
      ]
     },
     "metadata": {},
     "output_type": "display_data"
    }
   ],
   "source": [
    "from azureml.widgets import RunDetails\n",
    "RunDetails(run).show()\n"
   ]
  },
  {
   "cell_type": "markdown",
   "metadata": {},
   "source": [
    "### register model from best run"
   ]
  },
  {
   "cell_type": "code",
   "execution_count": 43,
   "metadata": {},
   "outputs": [
    {
     "name": "stdout",
     "output_type": "stream",
     "text": [
      "onnxmodel\tonnxmodel:6\t6\n"
     ]
    }
   ],
   "source": [
    "best_run = run.get_best_run_by_primary_metric()\n",
    "model = best_run.register_model(model_name='onnxmodel', model_path=\"outputs/model/onnxmodel.onnx\")\n",
    "print(model.name, model.id, model.version, sep = '\\t')"
   ]
  },
  {
   "cell_type": "markdown",
   "metadata": {},
   "source": [
    "![Impressions](https://PixelServer20190423114238.azurewebsites.net/api/impressions/MachineLearningNotebooks/tutorials/img-classification-part1-training.png)"
   ]
  },
  {
   "cell_type": "markdown",
   "metadata": {},
   "source": [
    "# Deploy"
   ]
  },
  {
   "cell_type": "code",
   "execution_count": 44,
   "metadata": {},
   "outputs": [
    {
     "name": "stdout",
     "output_type": "stream",
     "text": [
      "Overwriting score.py\n"
     ]
    }
   ],
   "source": [
    "%%writefile score.py\n",
    "\n",
    "import json\n",
    "import numpy as np\n",
    "from azureml.core.model import Model\n",
    "import onnxruntime as rt\n",
    "\n",
    "def init():\n",
    "    global session\n",
    "    model_path = Model.get_model_path(model_name='onnxmodel')\n",
    "    session = rt.InferenceSession(model_path)\n",
    "\n",
    "\n",
    "def run(raw_data):\n",
    "    data = np.array(json.loads(raw_data)['data'])\n",
    "    data = data.astype(np.float32)\n",
    "    input_name = session.get_inputs()[0].name\n",
    "    \n",
    "    # make prediction\n",
    "    res = session.run(None, {input_name: data})\n",
    "    prob = res[0]\n",
    "\n",
    "    return prob.tolist()"
   ]
  },
  {
   "cell_type": "markdown",
   "metadata": {},
   "source": [
    "### Serve model"
   ]
  },
  {
   "cell_type": "markdown",
   "metadata": {},
   "source": [
    "===========================================================\n",
    "\n",
    "\n",
    "\n",
    "\n",
    "\n",
    "\n",
    "\n",
    "\n",
    "\n",
    "\n",
    "\n",
    "\n",
    "\n",
    "=============================================================="
   ]
  },
  {
   "cell_type": "code",
   "execution_count": 45,
   "metadata": {},
   "outputs": [],
   "source": [
    "from azureml.core.conda_dependencies import CondaDependencies \n",
    "\n",
    "myenv = CondaDependencies.create(pip_packages=[\"numpy\",\"onnxruntime\",\"azureml-defaults\"]\n",
    "                                )\n",
    "myenv.add_conda_package('tensorflow')\n",
    "myenv.add_conda_package('keras')\n",
    "with open(\"myenv.yml\",\"w\") as f:\n",
    "    f.write(myenv.serialize_to_string())"
   ]
  },
  {
   "cell_type": "code",
   "execution_count": 46,
   "metadata": {},
   "outputs": [],
   "source": [
    "from azureml.core.model import InferenceConfig\n",
    "\n",
    "inference_config = InferenceConfig(runtime=\"python\",\n",
    "                                   entry_script=\"score.py\",\n",
    "                                   conda_file=\"myenv.yml\")"
   ]
  },
  {
   "cell_type": "code",
   "execution_count": 127,
   "metadata": {},
   "outputs": [
    {
     "name": "stdout",
     "output_type": "stream",
     "text": [
      "Downloading model onnxmodel:6 to /tmp/azureml_vtj_q7s2/onnxmodel/6\n",
      "Generating Docker build context.\n",
      "Package creation Succeeded\n",
      "Package creation Succeeded\n",
      "Logging into Docker registry demoimages64d1b10b.azurecr.io\n",
      "Building Docker image from Dockerfile...\n",
      "Step 1/5 : FROM demoimages64d1b10b.azurecr.io/azureml/azureml_9addd638380b11aeec1f6735cb271a72\n",
      " ---> 073624575c6f\n",
      "Step 2/5 : COPY azureml-app /var/azureml-app\n",
      " ---> a16e89f00860\n",
      "Step 3/5 : COPY model_config_map.json /var/azureml-app/model_config_map.json\n",
      " ---> d77877f459af\n",
      "Step 4/5 : RUN mv '/var/azureml-app/tmpuaq4r7hq.py' /var/azureml-app/main.py\n",
      " ---> Running in bd3c8ccc2f3e\n",
      " ---> 7554f55666f8\n",
      "Step 5/5 : CMD [\"runsvdir\",\"/var/runit\"]\n",
      " ---> Running in e6e905ab4ff8\n",
      " ---> 0079939374f3\n",
      "Successfully built 0079939374f3\n",
      "Successfully tagged hyperdrivedservice:latest\n",
      "Starting Docker container...\n",
      "Docker container running.\n",
      "Checking container health...\n",
      "Local webservice is running at http://localhost:32773\n",
      "running\n"
     ]
    }
   ],
   "source": [
    "from azureml.core.webservice import  LocalWebservice  #                  <---------- LOCAL DEPLOYMENT IS MUCH FASTER\n",
    "from azureml.core.model import Model\n",
    "\n",
    "deployment_config = LocalWebservice.deploy_configuration()\n",
    "service = Model.deploy(ws, \"hyperdrivedservice\", [model], inference_config, deployment_config)\n",
    "service.wait_for_deployment(show_output = True)\n",
    "print(service.state)"
   ]
  },
  {
   "cell_type": "markdown",
   "metadata": {},
   "source": [
    "===========================================================\n",
    "\n",
    "\n",
    "\n",
    "\n",
    "\n",
    "\n",
    "\n",
    "\n",
    "\n",
    "\n",
    "\n",
    "\n",
    "\n",
    "=============================================================="
   ]
  },
  {
   "cell_type": "code",
   "execution_count": 124,
   "metadata": {},
   "outputs": [
    {
     "name": "stdout",
     "output_type": "stream",
     "text": [
      "(1, 150, 150, 3)\n"
     ]
    }
   ],
   "source": [
    "with open(os.path.join('testDataset', \"x_test.tsv\"),\"rb\") as f:\n",
    "     x_test=pickle.load(f)\n",
    "        \n",
    "import json\n",
    "\n",
    "idx=3\n",
    "test_sample_x=x_test[idx]\n",
    "test_sample_y=y_test[idx]\n",
    "\n",
    "\n",
    "testx=np.expand_dims(test_sample_x, axis=0)\n",
    "testxy=test_sample_y\n",
    "\n",
    "print(testx.shape)\n",
    "test_sample=json.dumps({'data':testx.tolist()})"
   ]
  },
  {
   "cell_type": "code",
   "execution_count": 50,
   "metadata": {},
   "outputs": [
    {
     "name": "stdout",
     "output_type": "stream",
     "text": [
      "calling  http://localhost:32770/score\n",
      "[[0.9998139142990112, 0.0, 2.9802322387695312e-08, 0.0, 0.0, 2.9802322387695312e-08, 0.005098700523376465, 5.081295967102051e-05]]\n"
     ]
    }
   ],
   "source": [
    "import requests\n",
    "\n",
    "# create the required header\n",
    "headers = {'Content-Type':'application/json'}\n",
    "print('calling ', service.scoring_uri)\n",
    "# post the request to the service and display the result\n",
    "resp = requests.post(service.scoring_uri, test_sample, headers = headers)\n",
    "print(resp.text)\n",
    "output  = resp.text"
   ]
  },
  {
   "cell_type": "code",
   "execution_count": 61,
   "metadata": {},
   "outputs": [],
   "source": [
    "def Convert(InputString): \n",
    "    string= InputString.replace('[','')\n",
    "    string= string.replace(']','')\n",
    "    string=string.replace(' ', '')\n",
    "    li = list(string.split(\",\")) \n",
    "    return li \n",
    "  "
   ]
  },
  {
   "cell_type": "code",
   "execution_count": 117,
   "metadata": {
    "scrolled": true
   },
   "outputs": [
    {
     "name": "stderr",
     "output_type": "stream",
     "text": [
      "\n",
      "A value is trying to be set on a copy of a slice from a DataFrame\n",
      "\n",
      "See the caveats in the documentation: http://pandas.pydata.org/pandas-docs/stable/indexing.html#indexing-view-versus-copy\n"
     ]
    },
    {
     "data": {
      "text/html": [
       "<div>\n",
       "<style scoped>\n",
       "    .dataframe tbody tr th:only-of-type {\n",
       "        vertical-align: middle;\n",
       "    }\n",
       "\n",
       "    .dataframe tbody tr th {\n",
       "        vertical-align: top;\n",
       "    }\n",
       "\n",
       "    .dataframe thead th {\n",
       "        text-align: right;\n",
       "    }\n",
       "</style>\n",
       "<table border=\"1\" class=\"dataframe\">\n",
       "  <thead>\n",
       "    <tr style=\"text-align: right;\">\n",
       "      <th></th>\n",
       "      <th>predicted</th>\n",
       "      <th>MaxVal</th>\n",
       "    </tr>\n",
       "  </thead>\n",
       "  <tbody>\n",
       "    <tr>\n",
       "      <th>0</th>\n",
       "      <td>1.00</td>\n",
       "      <td>*</td>\n",
       "    </tr>\n",
       "    <tr>\n",
       "      <th>1</th>\n",
       "      <td>0.00</td>\n",
       "      <td></td>\n",
       "    </tr>\n",
       "    <tr>\n",
       "      <th>2</th>\n",
       "      <td>0.00</td>\n",
       "      <td></td>\n",
       "    </tr>\n",
       "    <tr>\n",
       "      <th>3</th>\n",
       "      <td>0.00</td>\n",
       "      <td></td>\n",
       "    </tr>\n",
       "    <tr>\n",
       "      <th>4</th>\n",
       "      <td>0.00</td>\n",
       "      <td></td>\n",
       "    </tr>\n",
       "    <tr>\n",
       "      <th>5</th>\n",
       "      <td>0.00</td>\n",
       "      <td></td>\n",
       "    </tr>\n",
       "    <tr>\n",
       "      <th>6</th>\n",
       "      <td>0.01</td>\n",
       "      <td></td>\n",
       "    </tr>\n",
       "    <tr>\n",
       "      <th>7</th>\n",
       "      <td>0.00</td>\n",
       "      <td></td>\n",
       "    </tr>\n",
       "  </tbody>\n",
       "</table>\n",
       "</div>"
      ],
      "text/plain": [
       "   predicted MaxVal\n",
       "0       1.00      *\n",
       "1       0.00       \n",
       "2       0.00       \n",
       "3       0.00       \n",
       "4       0.00       \n",
       "5       0.00       \n",
       "6       0.01       \n",
       "7       0.00       "
      ]
     },
     "execution_count": 117,
     "metadata": {},
     "output_type": "execute_result"
    }
   ],
   "source": [
    "result=np.array(Convert(output))\n",
    "result=pd.DataFrame(np.around(result.astype(np.float),2),columns=['predicted'])\n",
    "result['MaxVal']=''\n",
    "MostProbable=result.predicted.idxmax()\n",
    "result['MaxVal'][MostProbable]= ' *'\n",
    "result"
   ]
  },
  {
   "cell_type": "code",
   "execution_count": 125,
   "metadata": {},
   "outputs": [
    {
     "data": {
      "text/plain": [
       "<matplotlib.image.AxesImage at 0x7f52397bcf60>"
      ]
     },
     "execution_count": 125,
     "metadata": {},
     "output_type": "execute_result"
    },
    {
     "data": {
      "image/png": "[encoded data removed]",
      "text/plain": [
       "<Figure size 432x288 with 1 Axes>"
      ]
     },
     "metadata": {
      "needs_background": "light"
     },
     "output_type": "display_data"
    }
   ],
   "source": [
    "plt.figure()\n",
    "labelsValid=np.core.defchararray.add(np.core.defchararray.add(test_sample_y,' / '),predictedLabel[0])\n",
    "\n",
    "title_obj=plt.title(labelsValid, fontsize=12)\n",
    "if (predictedLabel[0]!=test_sample_y):\n",
    "        plt.setp(title_obj, color='r') \n",
    "plt.imshow(test_sample_x)"
   ]
  }
 ],
 "metadata": {
  "authors": [
   {
    "name": "roastala"
   }
  ],
  "categories": [
   "tutorials"
  ],
  "kernelspec": {
   "display_name": "Python 3.6 - AzureML",
   "language": "python",
   "name": "python3-azureml"
  },
  "language_info": {
   "codemirror_mode": {
    "name": "ipython",
    "version": 3
   },
   "file_extension": ".py",
   "mimetype": "text/x-python",
   "name": "python",
   "nbconvert_exporter": "python",
   "pygments_lexer": "ipython3",
   "version": "3.6.2"
  },
  "msauthor": "roastala"
 },
 "nbformat": 4,
 "nbformat_minor": 2
}
