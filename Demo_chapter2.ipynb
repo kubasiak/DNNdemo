{
 "cells": [
  {
   "cell_type": "markdown",
   "metadata": {},
   "source": [
    "Copyright (c) Microsoft Corporation. All rights reserved.\n",
    "\n",
    "Licensed under the MIT License."
   ]
  },
  {
   "cell_type": "markdown",
   "metadata": {},
   "source": [
    "# This notebook deploys a registered model as a simple web service"
   ]
  },
  {
   "cell_type": "code",
   "execution_count": 2,
   "metadata": {
    "tags": [
     "check version"
    ]
   },
   "outputs": [
    {
     "name": "stdout",
     "output_type": "stream",
     "text": [
      "Azure ML SDK Version:  1.27.0\n"
     ]
    }
   ],
   "source": [
    "%matplotlib inline\n",
    "import numpy as np\n",
    "import matplotlib.pyplot as plt\n",
    "#import pandas as pd\n",
    "import pickle\n",
    "import azureml.core\n",
    "from azureml.core import Workspace\n",
    "from sklearn.preprocessing import LabelEncoder\n",
    "from keras.utils import np_utils\n",
    "from azureml.core.compute import ComputeTarget, AmlCompute\n",
    "from azureml.core.compute_target import ComputeTargetException\n",
    "from azureml.core import Experiment\n",
    "\n",
    "# check core SDK version number\n",
    "print(\"Azure ML SDK Version: \", azureml.core.VERSION)"
   ]
  },
  {
   "cell_type": "code",
   "execution_count": 3,
   "metadata": {},
   "outputs": [],
   "source": [
    "project_folder=os.getcwd()\n",
    "data_folder='trainDataset'\n",
    "script_folder='scripts' \n",
    "os.makedirs(script_folder, exist_ok=True)"
   ]
  },
  {
   "cell_type": "markdown",
   "metadata": {},
   "source": [
    "# Connect to workspace\r\n",
    "\r\n",
    "Create a workspace object from the existing workspace. `Workspace.from_config()` reads the file **config.json** and loads the details into an object named `ws`. Here we also create the object pointing to the default datastore 'ds'"
   ]
  },
  {
   "cell_type": "code",
   "execution_count": 5,
   "metadata": {
    "tags": [
     "load workspace"
    ]
   },
   "outputs": [
    {
     "name": "stdout",
     "output_type": "stream",
     "text": [
      "AzureBlob ws11078562529 azureml-blobstore-15002b44-9629-4d8c-a66d-71dde33561ab\n",
      "WS1\twesteurope\t20191107_DNNhyperdrive\twesteurope\n"
     ]
    }
   ],
   "source": [
    "# load workspace configuration from the config.json file in the current folder.\r\n",
    "ws = Workspace.from_config()\r\n",
    "ws = Workspace(subscription_id='ed940d3a-1d48-4740-b2cb-bd9fe6642e7b' ,resource_group='20191107_DNNhyperdrive', workspace_name = 'WS1' )\r\n",
    "\r\n",
    "ds = ws.get_default_datastore()\r\n",
    "print(ds.datastore_type, ds.account_name, ds.container_name)\r\n",
    "print(ws.name, ws.location, ws.resource_group, ws.location, sep='\\t')"
   ]
  },
  {
   "cell_type": "markdown",
   "metadata": {},
   "source": [
    "# Deployment"
   ]
  },
  {
   "cell_type": "markdown",
   "metadata": {},
   "source": [
    "### Display registered models with versions"
   ]
  },
  {
   "cell_type": "code",
   "execution_count": 6,
   "metadata": {},
   "outputs": [
    {
     "name": "stdout",
     "output_type": "stream",
     "text": [
      "Name: onnxmodel \tVersion: 1 \tDescription: None {}\n",
      "Name: LHdemo \tVersion: 1 \tDescription: None {}\n",
      "Name: AutoML67c20ca3694 \tVersion: 1 \tDescription: None {}\n",
      "Name: tf-dnn-mnist \tVersion: 1 \tDescription: None {}\n",
      "Name: DNNdemo \tVersion: 1 \tDescription: None {}\n"
     ]
    }
   ],
   "source": [
    "models = ws.models\n",
    "for name, m in models.items():\n",
    "    print(\"Name:\", name,\"\\tVersion:\", m.version, \"\\tDescription:\", m.description, m.tags)"
   ]
  },
  {
   "cell_type": "code",
   "execution_count": 8,
   "metadata": {},
   "outputs": [
    {
     "data": {
      "text/plain": "Model(workspace=Workspace.create(name='WS1', subscription_id='ed940d3a-1d48-4740-b2cb-bd9fe6642e7b', resource_group='20191107_DNNhyperdrive'), name=DNNdemo, id=DNNdemo:1, version=1, tags={}, properties={})"
     },
     "execution_count": 8,
     "metadata": {},
     "output_type": "execute_result"
    }
   ],
   "source": [
    "from azureml.core.model import Model\r\n",
    "import os\r\n",
    "\r\n",
    "model = Model(workspace=ws, name=\"DNNdemo\", version=1)\r\n",
    "model.download(target_dir=os.getcwd(),exist_ok=True)\r\n",
    "model"
   ]
  },
  {
   "cell_type": "markdown",
   "metadata": {},
   "source": [
    "### Create scoring script - score.py"
   ]
  },
  {
   "cell_type": "code",
   "execution_count": 9,
   "metadata": {},
   "outputs": [
    {
     "name": "stdout",
     "output_type": "stream",
     "text": [
      "Writing score.py\n"
     ]
    }
   ],
   "source": [
    "%%writefile score.py\r\n",
    "import json\r\n",
    "import numpy as np\r\n",
    "import os\r\n",
    "import pickle\r\n",
    "from keras.models import model_from_json\r\n",
    "from azureml.core.model import Model\r\n",
    "\r\n",
    "def init():\r\n",
    "    global model    \r\n",
    "    model_root = Model.get_model_path('DNNdemo')\r\n",
    "    # load json and create model\r\n",
    "    json_file = open(os.path.join(model_root, 'model.json'), 'r')\r\n",
    "    model_json = json_file.read()\r\n",
    "    json_file.close()\r\n",
    "    model = model_from_json(model_json)\r\n",
    "    # load weights into new model\r\n",
    "    model.load_weights(os.path.join(model_root, \"model.h5\"))   \r\n",
    "    model.compile(loss='binary_crossentropy', optimizer='rmsprop', metrics=['accuracy'])\r\n",
    "     \r\n",
    "        \r\n",
    "def run(raw_data):\r\n",
    "    data = np.array(json.loads(raw_data)['data'])\r\n",
    "    # make prediction\r\n",
    "    y_hat = np.argmax(model.predict(data), axis=1)\r\n",
    "    return y_hat.tolist()"
   ]
  },
  {
   "cell_type": "markdown",
   "metadata": {},
   "source": [
    "## Environment"
   ]
  },
  {
   "cell_type": "code",
   "execution_count": 14,
   "metadata": {},
   "outputs": [],
   "source": [
    "from azureml.core.conda_dependencies import CondaDependencies \r\n",
    "\r\n",
    "myenv = CondaDependencies.create(pip_packages=[\"numpy\",\"azureml-defaults\"],\r\n",
    "                                )\r\n",
    "myenv.add_conda_package('tensorflow')\r\n",
    "myenv.add_conda_package('keras')\r\n",
    "with open(\"score_env.yml\",\"w\") as f:\r\n",
    "    f.write(myenv.serialize_to_string())"
   ]
  },
  {
   "cell_type": "markdown",
   "metadata": {},
   "source": [
    "## Config"
   ]
  },
  {
   "cell_type": "code",
   "execution_count": 15,
   "metadata": {},
   "outputs": [],
   "source": [
    "from azureml.core.model import InferenceConfig\r\n",
    "\r\n",
    "inference_config = InferenceConfig(runtime=\"python\",\r\n",
    "                                   entry_script=\"score.py\",\r\n",
    "                                   conda_file=\"score_env.yml\")"
   ]
  },
  {
   "cell_type": "code",
   "execution_count": 25,
   "metadata": {},
   "outputs": [],
   "source": [
    "from azureml.core.webservice import AciWebservice\r\n",
    "from azureml.core.image import ContainerImage\r\n",
    "\r\n",
    "\r\n",
    "aci_config = AciWebservice.deploy_configuration(cpu_cores = 1, \r\n",
    "                                               memory_gb = 1, \r\n",
    "                                               tags = {'demo': 'simple deployment'}, \r\n",
    "                                               description = 'web service for DNN demo model')"
   ]
  },
  {
   "cell_type": "markdown",
   "metadata": {},
   "source": [
    "## Deploy"
   ]
  },
  {
   "cell_type": "code",
   "execution_count": 21,
   "metadata": {},
   "outputs": [],
   "source": [
    "serviceName = 'dnn-demo'"
   ]
  },
  {
   "cell_type": "code",
   "execution_count": 27,
   "metadata": {},
   "outputs": [
    {
     "name": "stdout",
     "output_type": "stream",
     "text": [
      "Tips: You can try get_logs(): https://aka.ms/debugimage#dockerlog or local deployment: https://aka.ms/debugimage#debug-locally to debug if deployment takes longer than 10 minutes.\n",
      "Running\n",
      "2021-05-10 18:03:36+02:00 Creating Container Registry if not exists.\n",
      "2021-05-10 18:03:37+02:00 Registering the environment.\n",
      "2021-05-10 18:03:38+02:00 Use the existing image.\n",
      "2021-05-10 18:03:38+02:00 Generating deployment configuration.\n",
      "2021-05-10 18:03:40+02:00 Submitting deployment to compute..\n",
      "2021-05-10 18:03:52+02:00 Checking the status of deployment dnn-demo-aci..\n",
      "2021-05-10 18:05:56+02:00 Checking the status of inference endpoint dnn-demo-aci.\n",
      "Succeeded\n",
      "ACI service creation operation finished, operation \"Succeeded\"\n",
      "Healthy\n"
     ]
    }
   ],
   "source": [
    "from azureml.core.webservice import  AciWebservice\r\n",
    "from azureml.core.model import Model\r\n",
    "\r\n",
    "serviceName2=serviceName+'-aci'\r\n",
    "\r\n",
    "service = Model.deploy( ws, \r\n",
    "                        serviceName2, \r\n",
    "                        [model], \r\n",
    "                        inference_config, \r\n",
    "                        aci_config)\r\n",
    "\r\n",
    "service.wait_for_deployment(show_output = True)\r\n",
    "print(service.state)"
   ]
  },
  {
   "cell_type": "code",
   "execution_count": 29,
   "metadata": {},
   "outputs": [
    {
     "name": "stdout",
     "output_type": "stream",
     "text": [
      "2021-05-10T16:05:53,942297400+00:00 - gunicorn/run \n",
      "2021-05-10T16:05:53,941949600+00:00 - rsyslog/run \n",
      "2021-05-10T16:05:53,958518800+00:00 - iot-server/run \n",
      "2021-05-10T16:05:53,990131700+00:00 - nginx/run \n",
      "/usr/sbin/nginx: /azureml-envs/azureml_51a8feaf545b6d045a38ed05265ae03e/lib/libcrypto.so.1.0.0: no version information available (required by /usr/sbin/nginx)\n",
      "/usr/sbin/nginx: /azureml-envs/azureml_51a8feaf545b6d045a38ed05265ae03e/lib/libcrypto.so.1.0.0: no version information available (required by /usr/sbin/nginx)\n",
      "/usr/sbin/nginx: /azureml-envs/azureml_51a8feaf545b6d045a38ed05265ae03e/lib/libssl.so.1.0.0: no version information available (required by /usr/sbin/nginx)\n",
      "/usr/sbin/nginx: /azureml-envs/azureml_51a8feaf545b6d045a38ed05265ae03e/lib/libssl.so.1.0.0: no version information available (required by /usr/sbin/nginx)\n",
      "/usr/sbin/nginx: /azureml-envs/azureml_51a8feaf545b6d045a38ed05265ae03e/lib/libssl.so.1.0.0: no version information available (required by /usr/sbin/nginx)\n",
      "EdgeHubConnectionString and IOTEDGE_IOTHUBHOSTNAME are not set. Exiting...\n",
      "2021-05-10T16:05:54,229194200+00:00 - iot-server/finish 1 0\n",
      "2021-05-10T16:05:54,231628700+00:00 - Exit code 1 is normal. Not restarting iot-server.\n",
      "Starting gunicorn 19.9.0\n",
      "Listening at: http://127.0.0.1:31311 (71)\n",
      "Using worker: sync\n",
      "worker timeout is set to 300\n",
      "Booting worker with pid: 100\n",
      "SPARK_HOME not set. Skipping PySpark Initialization.\n",
      "Initializing logger\n",
      "2021-05-10 16:05:59,147 | root | INFO | Starting up app insights client\n",
      "2021-05-10 16:05:59,148 | root | INFO | Starting up request id generator\n",
      "2021-05-10 16:05:59,148 | root | INFO | Starting up app insight hooks\n",
      "2021-05-10 16:05:59,148 | root | INFO | Invoking user's init function\n",
      "2021-05-10 16:05:59.159755: I tensorflow/core/platform/cpu_feature_guard.cc:145] This TensorFlow binary is optimized with Intel(R) MKL-DNN to use the following CPU instructions in performance critical operations:  SSE4.1 SSE4.2 AVX AVX2 AVX512F FMA\n",
      "To enable them in non-MKL-DNN operations, rebuild TensorFlow with the appropriate compiler flags.\n",
      "2021-05-10 16:05:59.177990: I tensorflow/core/platform/profile_utils/cpu_utils.cc:94] CPU Frequency: 2095074999 Hz\n",
      "2021-05-10 16:05:59.178380: I tensorflow/compiler/xla/service/service.cc:168] XLA service 0x5620d8614aa0 executing computations on platform Host. Devices:\n",
      "2021-05-10 16:05:59.178421: I tensorflow/compiler/xla/service/service.cc:175]   StreamExecutor device (0): Host, Default Version\n",
      "2021-05-10 16:05:59.179703: I tensorflow/core/common_runtime/process_util.cc:115] Creating new thread pool with default inter op setting: 2. Tune using inter_op_parallelism_threads for best performance.\n",
      "Using TensorFlow backend.\n",
      "2021-05-10 16:05:59,748 | root | INFO | Users's init has completed successfully\n",
      "2021-05-10 16:05:59,755 | root | INFO | Skipping middleware: dbg_model_info as it's not enabled.\n",
      "2021-05-10 16:05:59,755 | root | INFO | Skipping middleware: dbg_resource_usage as it's not enabled.\n",
      "2021-05-10 16:05:59,756 | root | INFO | Scoring timeout is found from os.environ: 60000 ms\n",
      "2021-05-10 16:06:01,954 | root | INFO | Swagger file not present\n",
      "2021-05-10 16:06:01,954 | root | INFO | 404\n",
      "127.0.0.1 - - [10/May/2021:16:06:01 +0000] \"GET /swagger.json HTTP/1.0\" 404 19 \"-\" \"Go-http-client/1.1\"\n",
      "2021-05-10 16:06:05,968 | root | INFO | Swagger file not present\n",
      "2021-05-10 16:06:05,968 | root | INFO | 404\n",
      "127.0.0.1 - - [10/May/2021:16:06:05 +0000] \"GET /swagger.json HTTP/1.0\" 404 19 \"-\" \"Go-http-client/1.1\"\n",
      "127.0.0.1 - - [10/May/2021:16:20:42 +0000] \"GET /manager/html HTTP/1.0\" 404 232 \"-\" \"Mozilla/5.0 Gecko/20100101\"\n",
      "127.0.0.1 - - [10/May/2021:16:25:54 +0000] \"GET /?%2F= HTTP/1.0\" 200 7 \"-\" \"Mozilla/5.0 (X11; Linux x86_64) AppleWebKit/537.36 (KHTML, like Gecko) Chrome/81.0.4044.129 Safari/537.36\"\n",
      "127.0.0.1 - - [10/May/2021:17:37:26 +0000] \"POST /boaform/admin/formLogin HTTP/1.0\" 404 232 \"http://20.76.126.182:80/admin/login.asp\" \"Mozilla/5.0 (X11; Ubuntu; Linux x86_64; rv:71.0) Gecko/20100101 Firefox/71.0\"\n",
      "127.0.0.1 - - [10/May/2021:21:57:27 +0000] \"GET /favicon.ico HTTP/1.0\" 404 232 \"-\" \"Mozilla/5.0 (Windows NT 6.1; WOW64) AppleWebKit/537.36 (KHTML, like Gecko) Chrome/63.0.3239.132 Safari/537.36 QIHU 360SE\"\n",
      "127.0.0.1 - - [11/May/2021:05:41:23 +0000] \"POST /GponForm/diag_Form?images%2F= HTTP/1.0\" 404 232 \"-\" \"Hello, World\"\n",
      "127.0.0.1 - - [11/May/2021:05:55:53 +0000] \"GET /ecp/Current/exporttool/microsoft.exchange.ediscovery.exporttool.application HTTP/1.0\" 404 232 \"-\" \"Mozilla/5.0 (compatible; Nmap Scripting Engine; https://nmap.org/book/nse.html)\"\n",
      "127.0.0.1 - - [11/May/2021:07:01:23 +0000] \"GET /phpmyadmin/ HTTP/1.0\" 404 232 \"-\" \"Mozilla/5.0 (Windows NT 10.0; WOW64) AppleWebKit/537.36 (KHTML, like Gecko) Chrome/51.0.2704.103 Safari/537.36\"\n",
      "\n"
     ]
    }
   ],
   "source": [
    "print(service.get_logs())"
   ]
  },
  {
   "cell_type": "markdown",
   "metadata": {},
   "source": [
    "# Test the service"
   ]
  },
  {
   "cell_type": "code",
   "execution_count": 30,
   "metadata": {},
   "outputs": [
    {
     "data": {
      "text/plain": "<matplotlib.image.AxesImage at 0x24f7980cb08>"
     },
     "execution_count": 30,
     "metadata": {},
     "output_type": "execute_result"
    },
    {
     "data": {
      "image/png": "[encoded data removed]",
      "text/plain": "<Figure size 432x288 with 1 Axes>"
     },
     "metadata": {
      "needs_background": "light"
     },
     "output_type": "display_data"
    }
   ],
   "source": [
    "with open(os.path.join('testDataset', \"x_test.tsv\"),\"rb\") as f:\n",
    "     x_test=pickle.load(f)\n",
    "with open(os.path.join('testDataset', \"y_test.tsv\"),\"rb\") as f:\n",
    "     y_test=pickle.load(f)\n",
    "with open(os.path.join('trainDataset', \"encoder\"),\"rb\") as f:\n",
    "     encoder=pickle.load(f)\n",
    "        \n",
    "test_sample_x=x_test[2]\n",
    "test_sample_y=y_test[2]\n",
    "\n",
    "test_sample_x\n",
    "\n",
    "plt.imshow(test_sample_x, cmap=plt.cm.Greys)\n"
   ]
  },
  {
   "cell_type": "code",
   "execution_count": null,
   "metadata": {},
   "outputs": [],
   "source": []
  },
  {
   "cell_type": "code",
   "execution_count": null,
   "metadata": {},
   "outputs": [],
   "source": []
  },
  {
   "cell_type": "code",
   "execution_count": 31,
   "metadata": {},
   "outputs": [],
   "source": [
    "import json\n",
    "\n",
    "testx=np.expand_dims(test_sample_x, axis=0)\n",
    "test_json=json.dumps({'data':testx.tolist()})\n"
   ]
  },
  {
   "cell_type": "code",
   "execution_count": 33,
   "metadata": {},
   "outputs": [
    {
     "name": "stdout",
     "output_type": "stream",
     "text": [
      "predicted label ['4U']\n",
      "true label 4U\n"
     ]
    }
   ],
   "source": [
    "\r\n",
    "predicted = service.run(input_data = test_json)\r\n",
    "\r\n",
    "predictedLabel= encoder.inverse_transform(predicted)\r\n",
    "print('predicted label', predictedLabel)\r\n",
    "print('true label', test_sample_y)"
   ]
  }
 ],
 "metadata": {
  "authors": [
   {
    "name": "roastala"
   }
  ],
  "categories": [
   "tutorials"
  ],
  "kernelspec": {
   "display_name": "Python 3.6 - AzureML",
   "language": "python",
   "name": "python3-azureml"
  },
  "language_info": {
   "codemirror_mode": {
    "name": "ipython",
    "version": 3
   },
   "file_extension": ".py",
   "mimetype": "text/x-python",
   "name": "python",
   "nbconvert_exporter": "python",
   "pygments_lexer": "ipython3",
   "version": "3.6.2"
  },
  "msauthor": "roastala"
 },
 "nbformat": 4,
 "nbformat_minor": 2
}